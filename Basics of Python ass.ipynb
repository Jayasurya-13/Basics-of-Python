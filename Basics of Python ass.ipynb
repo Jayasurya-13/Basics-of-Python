{
 "cells": [
  {
   "cell_type": "code",
   "execution_count": 1,
   "id": "60a51112-cf05-450e-8e62-03fe88947878",
   "metadata": {},
   "outputs": [],
   "source": [
    "# Prime numbers"
   ]
  },
  {
   "cell_type": "code",
   "execution_count": 2,
   "id": "8b4af70f-d5fa-474f-b457-11a8cac08b6d",
   "metadata": {},
   "outputs": [
    {
     "name": "stdin",
     "output_type": "stream",
     "text": [
      "Enter the prime number: 6\n"
     ]
    },
    {
     "name": "stdout",
     "output_type": "stream",
     "text": [
      "The given number is not a prime number:\n",
      "The given number is not a prime number:\n",
      "the given number is prime number:\n",
      "the given number is prime number:\n"
     ]
    }
   ],
   "source": [
    "num = int(input(\"Enter the prime number:\"))\n",
    "if num>1:\n",
    "    for i in range(2, num):\n",
    "        if(num% i)== 0:\n",
    "            print(\"The given number is not a prime number:\")\n",
    "        else:\n",
    "            print(\"the given number is prime number:\")"
   ]
  },
  {
   "cell_type": "code",
   "execution_count": 3,
   "id": "6f6f6493-5cf7-4d96-a79e-df846cd48c8a",
   "metadata": {},
   "outputs": [],
   "source": [
    "#Product of Random Numbers"
   ]
  },
  {
   "cell_type": "code",
   "execution_count": 4,
   "id": "18d62290-e73d-4376-99c3-4b374e0b6cf4",
   "metadata": {},
   "outputs": [],
   "source": [
    "import random"
   ]
  },
  {
   "cell_type": "code",
   "execution_count": 7,
   "id": "73bb91c5-772b-4adc-a45d-95339ee4e613",
   "metadata": {},
   "outputs": [
    {
     "name": "stdin",
     "output_type": "stream",
     "text": [
      "7 6\n",
      "2 5\n",
      "Enter the product: 30\n"
     ]
    },
    {
     "name": "stdout",
     "output_type": "stream",
     "text": [
      "Correct answer\n"
     ]
    },
    {
     "name": "stdin",
     "output_type": "stream",
     "text": [
      "Enter the product: 50\n"
     ]
    },
    {
     "name": "stdout",
     "output_type": "stream",
     "text": [
      "Incorrect\n"
     ]
    }
   ],
   "source": [
    "num1 = int(input(random.randint (1, 10)))\n",
    "num2 = int(input(random.randint (1, 10)))\n",
    "while True:\n",
    "    user_answer = int(input(\"Enter the product:\"))\n",
    "    if user_answer == num1*num2:\n",
    "        print(\"Correct answer\")\n",
    "    else:\n",
    "        print(\"Incorrect\")\n",
    "        break"
   ]
  },
  {
   "cell_type": "code",
   "execution_count": 6,
   "id": "292407be-88ca-4d3c-a16f-11670338de89",
   "metadata": {},
   "outputs": [],
   "source": [
    "#Squares of Even/Odd Numbers\n",
    "#Create a Python script that prints the squares of all even or odd numbers within the range of 100 to 200. Choose either even or odd numbers and document your choice in the code."
   ]
  },
  {
   "cell_type": "code",
   "execution_count": 26,
   "id": "7e67d270-43cf-4071-9e96-3c2a8b3adc8a",
   "metadata": {},
   "outputs": [
    {
     "name": "stdout",
     "output_type": "stream",
     "text": [
      "Square of even number in range 100 to 200 \n",
      "100^2 = 10000\n",
      "102^2 = 10404\n",
      "104^2 = 10816\n",
      "106^2 = 11236\n",
      "108^2 = 11664\n",
      "110^2 = 12100\n",
      "112^2 = 12544\n",
      "114^2 = 12996\n",
      "116^2 = 13456\n",
      "118^2 = 13924\n",
      "120^2 = 14400\n",
      "122^2 = 14884\n",
      "124^2 = 15376\n",
      "126^2 = 15876\n",
      "128^2 = 16384\n",
      "130^2 = 16900\n",
      "132^2 = 17424\n",
      "134^2 = 17956\n",
      "136^2 = 18496\n",
      "138^2 = 19044\n",
      "140^2 = 19600\n",
      "142^2 = 20164\n",
      "144^2 = 20736\n",
      "146^2 = 21316\n",
      "148^2 = 21904\n",
      "150^2 = 22500\n",
      "152^2 = 23104\n",
      "154^2 = 23716\n",
      "156^2 = 24336\n",
      "158^2 = 24964\n",
      "160^2 = 25600\n",
      "162^2 = 26244\n",
      "164^2 = 26896\n",
      "166^2 = 27556\n",
      "168^2 = 28224\n",
      "170^2 = 28900\n",
      "172^2 = 29584\n",
      "174^2 = 30276\n",
      "176^2 = 30976\n",
      "178^2 = 31684\n",
      "180^2 = 32400\n",
      "182^2 = 33124\n",
      "184^2 = 33856\n",
      "186^2 = 34596\n",
      "188^2 = 35344\n",
      "190^2 = 36100\n",
      "192^2 = 36864\n",
      "194^2 = 37636\n",
      "196^2 = 38416\n",
      "198^2 = 39204\n"
     ]
    }
   ],
   "source": [
    "def print_even_squares():\n",
    "    print(\"Square of even number in range 100 to 200 \")\n",
    "    for num in range(100, 200):\n",
    "        if num%2 == 0:\n",
    "            square = num**2\n",
    "            print(f\"{num}^2 = {square}\")\n",
    "print_even_squares()"
   ]
  },
  {
   "cell_type": "code",
   "execution_count": 32,
   "id": "cf5c24eb-a4f1-4b95-bcf2-0bf5ba2f2ea7",
   "metadata": {},
   "outputs": [
    {
     "name": "stdout",
     "output_type": "stream",
     "text": [
      "Square of odd number in range 100 to 200 \n",
      "101^2 = 10201\n",
      "103^2 = 10609\n",
      "105^2 = 11025\n",
      "107^2 = 11449\n",
      "109^2 = 11881\n",
      "111^2 = 12321\n",
      "113^2 = 12769\n",
      "115^2 = 13225\n",
      "117^2 = 13689\n",
      "119^2 = 14161\n",
      "121^2 = 14641\n",
      "123^2 = 15129\n",
      "125^2 = 15625\n",
      "127^2 = 16129\n",
      "129^2 = 16641\n",
      "131^2 = 17161\n",
      "133^2 = 17689\n",
      "135^2 = 18225\n",
      "137^2 = 18769\n",
      "139^2 = 19321\n",
      "141^2 = 19881\n",
      "143^2 = 20449\n",
      "145^2 = 21025\n",
      "147^2 = 21609\n",
      "149^2 = 22201\n",
      "151^2 = 22801\n",
      "153^2 = 23409\n",
      "155^2 = 24025\n",
      "157^2 = 24649\n",
      "159^2 = 25281\n",
      "161^2 = 25921\n",
      "163^2 = 26569\n",
      "165^2 = 27225\n",
      "167^2 = 27889\n",
      "169^2 = 28561\n",
      "171^2 = 29241\n",
      "173^2 = 29929\n",
      "175^2 = 30625\n",
      "177^2 = 31329\n",
      "179^2 = 32041\n",
      "181^2 = 32761\n",
      "183^2 = 33489\n",
      "185^2 = 34225\n",
      "187^2 = 34969\n",
      "189^2 = 35721\n",
      "191^2 = 36481\n",
      "193^2 = 37249\n",
      "195^2 = 38025\n",
      "197^2 = 38809\n",
      "199^2 = 39601\n"
     ]
    }
   ],
   "source": [
    "def print_odd_squares():\n",
    "    print(\"Square of odd number in range 100 to 200 \")\n",
    "    for num in range(100, 200):\n",
    "        if num%2 != 0:\n",
    "            square = num**2\n",
    "            print(f\"{num}^2 = {square}\")\n",
    "print_odd_squares()"
   ]
  },
  {
   "cell_type": "code",
   "execution_count": null,
   "id": "c8feee6d-4346-412d-b4d3-c76daf3c34b7",
   "metadata": {},
   "outputs": [],
   "source": [
    "#Word counter"
   ]
  },
  {
   "cell_type": "code",
   "execution_count": 10,
   "id": "f2dc72f5-74ae-414c-9ca2-aa5413e156ec",
   "metadata": {},
   "outputs": [
    {
     "name": "stdout",
     "output_type": "stream",
     "text": [
      "{'Data': 1, 'Science': 1, 'is': 1, 'study': 1, 'of': 1, 'data': 1, 'to': 1, 'extract': 1, 'meaningful': 1, 'insights': 1, 'for': 1, 'business.': 1}\n"
     ]
    }
   ],
   "source": [
    "def word_count(str):\n",
    "    counts = dict()\n",
    "    words = str.split()\n",
    "    for word in words:\n",
    "        if word in counts:\n",
    "            counts[word] += 1\n",
    "        else:\n",
    "            counts[word] = 1\n",
    "    return counts\n",
    "print(word_count('Data Science is study of data to extract meaningful insights for business.'))"
   ]
  },
  {
   "cell_type": "code",
   "execution_count": 11,
   "id": "53c60f85-2021-4912-abe9-7f40f46687a2",
   "metadata": {},
   "outputs": [],
   "source": [
    "#Check for Palindrome"
   ]
  },
  {
   "cell_type": "code",
   "execution_count": 14,
   "id": "63dc730a-358c-4806-8f81-cefabf9ed7fc",
   "metadata": {},
   "outputs": [
    {
     "name": "stdout",
     "output_type": "stream",
     "text": [
      "Yes\n"
     ]
    }
   ],
   "source": [
    "def isPalindrome(s):\n",
    "    return s == s[::-1]\n",
    "s = \"TENET\"\n",
    "ans = isPalindrome(s)\n",
    "if ans:\n",
    "    print(\"Yes\")\n",
    "else:\n",
    "    print(\"No\")"
   ]
  },
  {
   "cell_type": "code",
   "execution_count": 15,
   "id": "c0f089af-90d2-4f75-9335-76d25728c618",
   "metadata": {},
   "outputs": [
    {
     "name": "stdout",
     "output_type": "stream",
     "text": [
      "No\n"
     ]
    }
   ],
   "source": [
    "def isPalindrome(s):\n",
    "    return s == s[::-1]\n",
    "s = \"HELLO\"\n",
    "ans = isPalindrome(s)\n",
    "if ans:\n",
    "    print(\"Yes\")\n",
    "else:\n",
    "    print(\"No\")"
   ]
  },
  {
   "cell_type": "code",
   "execution_count": null,
   "id": "6f698df7-730e-4537-94f5-5f3874b70bfc",
   "metadata": {},
   "outputs": [],
   "source": []
  }
 ],
 "metadata": {
  "kernelspec": {
   "display_name": "Python 3 (ipykernel)",
   "language": "python",
   "name": "python3"
  },
  "language_info": {
   "codemirror_mode": {
    "name": "ipython",
    "version": 3
   },
   "file_extension": ".py",
   "mimetype": "text/x-python",
   "name": "python",
   "nbconvert_exporter": "python",
   "pygments_lexer": "ipython3",
   "version": "3.11.7"
  }
 },
 "nbformat": 4,
 "nbformat_minor": 5
}
